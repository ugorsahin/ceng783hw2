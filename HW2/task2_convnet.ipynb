{
 "cells": [
  {
   "cell_type": "markdown",
   "metadata": {},
   "source": [
    "# Train a ConvNet!\n",
    "We now have a generic solver and a bunch of modularized layers. It's time to put it all together, and train a ConvNet to recognize the classes in CIFAR-10. In this notebook we will walk you through training a simple two-layer ConvNet and then set you free to build the best net that you can to perform well on CIFAR-10.\n",
    "\n",
    "Open up the file `cs231n/classifiers/convnet.py`; you will see that the `two_layer_convnet` function computes the loss and gradients for a two-layer ConvNet. Note that this function uses the \"sandwich\" layers defined in `cs231n/layer_utils.py`. "
   ]
  },
  {
   "cell_type": "code",
   "execution_count": 1,
   "metadata": {},
   "outputs": [],
   "source": [
    "# As usual, a bit of setup\n",
    "\n",
    "import numpy as np\n",
    "import matplotlib.pyplot as plt\n",
    "from cs231n.classifier_trainer import ClassifierTrainer\n",
    "from cs231n.gradient_check import eval_numerical_gradient\n",
    "from cs231n.classifiers.convnet import *\n",
    "\n",
    "%matplotlib inline\n",
    "plt.rcParams['figure.figsize'] = (10.0, 8.0) # set default size of plots\n",
    "plt.rcParams['image.interpolation'] = 'nearest'\n",
    "plt.rcParams['image.cmap'] = 'gray'\n",
    "\n",
    "# for auto-reloading external modules\n",
    "# see http://stackoverflow.com/questions/1907993/autoreload-of-modules-in-ipython\n",
    "%load_ext autoreload\n",
    "%autoreload 2\n",
    "\n",
    "def rel_error(x, y):\n",
    "    \"\"\" returns relative error \"\"\"\n",
    "    return np.max(np.abs(x - y) / (np.maximum(1e-18, np.abs(x) + np.abs(y))))\n"
   ]
  },
  {
   "cell_type": "code",
   "execution_count": 2,
   "metadata": {},
   "outputs": [
    {
     "name": "stdout",
     "output_type": "stream",
     "text": [
      "Train data shape:  (19000, 3, 32, 32)\n",
      "Train labels shape:  (19000,)\n",
      "Validation data shape:  (1000, 3, 32, 32)\n",
      "Validation labels shape:  (1000,)\n",
      "Test data shape:  (1000, 32, 32, 3)\n",
      "Test labels shape:  (1000,)\n"
     ]
    }
   ],
   "source": [
    "from cs231n.data_utils import load_CIFAR10\n",
    "# Modify load_CIFAR10 and the following function to load less data if you have memory issues.\n",
    "# Load batches 1, 2 and 3; and call the function as follows:\n",
    "#def get_CIFAR10_data(num_training=49000, num_validation=1000, num_test=1000):\n",
    "def get_CIFAR10_data(num_training=19000, num_validation=1000, num_test=1000):\n",
    "    \"\"\"\n",
    "    Load the CIFAR-10 dataset from disk and perform preprocessing to prepare\n",
    "    it for the two-layer neural net classifier. These are the same steps as\n",
    "    we used for the SVM, but condensed to a single function.  \n",
    "    \"\"\"\n",
    "    # Load the raw CIFAR-10 data\n",
    "    cifar10_dir = 'cs231n/datasets/cifar-10-batches-py'\n",
    "    X_train, y_train, X_test, y_test = load_CIFAR10(cifar10_dir)\n",
    "        \n",
    "    # Subsample the data\n",
    "    mask = range(num_training, num_training + num_validation)\n",
    "    X_val = X_train[mask]\n",
    "    y_val = y_train[mask]\n",
    "    mask = range(num_training)\n",
    "    X_train = X_train[mask]\n",
    "    y_train = y_train[mask]\n",
    "    mask = range(num_test)\n",
    "    X_test = X_test[mask]\n",
    "    y_test = y_test[mask]\n",
    "\n",
    "    # Normalize the data: subtract the mean image\n",
    "    mean_image = np.mean(X_train, axis=0)\n",
    "    X_train -= mean_image\n",
    "    X_val -= mean_image\n",
    "    X_test -= mean_image\n",
    "    \n",
    "    # Transpose so that channels come first\n",
    "    X_train = X_train.transpose(0, 3, 1, 2).copy()\n",
    "    X_val = X_val.transpose(0, 3, 1, 2).copy()\n",
    "    x_test = X_test.transpose(0, 3, 1, 2).copy()\n",
    "\n",
    "    return X_train, y_train, X_val, y_val, X_test, y_test\n",
    "\n",
    "\n",
    "# Invoke the above function to get our data.\n",
    "X_train, y_train, X_val, y_val, X_test, y_test = get_CIFAR10_data()\n",
    "print ('Train data shape: ', X_train.shape)\n",
    "print ('Train labels shape: ', y_train.shape)\n",
    "print ('Validation data shape: ', X_val.shape)\n",
    "print ('Validation labels shape: ', y_val.shape)\n",
    "print ('Test data shape: ', X_test.shape)\n",
    "print ('Test labels shape: ', y_test.shape)"
   ]
  },
  {
   "cell_type": "markdown",
   "metadata": {},
   "source": [
    "# Sanity check loss\n",
    "After you build a new network, one of the first things you should do is sanity check the loss. When we use the softmax loss, we expect the loss for random weights (and no regularization) to be about `log(C)` for `C` classes. When we add regularization this should go up."
   ]
  },
  {
   "cell_type": "code",
   "execution_count": 4,
   "metadata": {},
   "outputs": [
    {
     "name": "stdout",
     "output_type": "stream",
     "text": [
      "Sanity check loss (no regularization):  2.3025850925986258\n",
      "Sanity check loss (with regularization):  2.9601835650655985\n"
     ]
    }
   ],
   "source": [
    "from cs231n.classifiers.convnet import *\n",
    "model = init_unet_classifier()\n",
    "\n",
    "X = np.random.randn(100, 3, 32, 32)\n",
    "y = np.random.randint(10, size=100)\n",
    "\n",
    "loss, _ = unet_classifier(X, model, y, reg=0)\n",
    "\n",
    "# Sanity check: Loss should be about log(10) = 2.3026\n",
    "print ('Sanity check loss (no regularization): ', loss)\n",
    "\n",
    "# Sanity check: Loss should go up when you add regularization\n",
    "loss, _ = unet_classifier(X, model, y, reg=1)\n",
    "print ('Sanity check loss (with regularization): ', loss)"
   ]
  },
  {
   "cell_type": "markdown",
   "metadata": {},
   "source": [
    "# Gradient check\n",
    "After the loss looks reasonable, you should always use numeric gradient checking to make sure that your backward pass is correct. When you use numeric gradient checking you should use a small amount of artifical data and a small number of neurons at each layer."
   ]
  },
  {
   "cell_type": "code",
   "execution_count": 5,
   "metadata": {},
   "outputs": [
    {
     "name": "stdout",
     "output_type": "stream",
     "text": [
      "convW0 max relative error: 1.000000e+00\n",
      "convW1 max relative error: 1.000000e+00\n",
      "convW2 max relative error: 1.000000e+00\n",
      "convb0 max relative error: 1.978632e-01\n",
      "convb1 max relative error: 1.682680e-02\n",
      "convb2 max relative error: 1.000000e+00\n",
      "fcW0 max relative error: 1.000000e+00\n",
      "fcb0 max relative error: 7.367199e-05\n",
      "outW max relative error: 1.000000e+00\n",
      "outb max relative error: 2.234765e-07\n"
     ]
    }
   ],
   "source": [
    "num_inputs = 2\n",
    "input_shape = (3, 16, 16)\n",
    "reg = 0.0\n",
    "num_classes = 10\n",
    "X = np.random.randn(num_inputs, *input_shape)\n",
    "y = np.random.randint(num_classes, size=num_inputs)\n",
    "\n",
    "model = init_unet_classifier(num_filters=[2,4,6], filter_size=5, input_shape=input_shape)\n",
    "loss, grads = unet_classifier(X, model, y)\n",
    "for param_name in sorted(grads):\n",
    "    f = lambda _: unet_classifier(X, model, y)[0]\n",
    "    param_grad_num = eval_numerical_gradient(f, model[param_name], verbose=False, h=1e-6)\n",
    "    e = rel_error(param_grad_num, grads[param_name])\n",
    "    print ('%s max relative error: %e' % (param_name, rel_error(param_grad_num, grads[param_name])))"
   ]
  },
  {
   "cell_type": "markdown",
   "metadata": {},
   "source": [
    "# Overfit small data\n",
    "A nice trick is to train your model with just a few training samples. You should be able to overfit small datasets, which will result in very high training accuracy and comparatively low validation accuracy."
   ]
  },
  {
   "cell_type": "code",
   "execution_count": 18,
   "metadata": {
    "scrolled": false
   },
   "outputs": [
    {
     "name": "stdout",
     "output_type": "stream",
     "text": [
      "starting iteration  0\n",
      "Finished epoch 0 / 10: cost 2.302854, train: 0.100000, val 0.104000, lr 1.000000e-03\n",
      "\n",
      "Finished epoch 1 / 10: cost 2.732344, train: 0.160000, val 0.115000, lr 9.500000e-04\n",
      "starting iteration  10\n",
      "Finished epoch 2 / 10: cost 2.028680, train: 0.120000, val 0.106000, lr 9.025000e-04\n",
      "starting iteration  20\n",
      "Finished epoch 3 / 10: cost 2.158528, train: 0.220000, val 0.121000, lr 8.573750e-04\n",
      "starting iteration  30\n",
      "Finished epoch 4 / 10: cost 2.788779, train: 0.200000, val 0.121000, lr 8.145062e-04\n",
      "starting iteration  40\n",
      "Finished epoch 5 / 10: cost 2.277648, train: 0.240000, val 0.136000, lr 7.737809e-04\n",
      "starting iteration  50\n",
      "Finished epoch 6 / 10: cost 2.124102, train: 0.240000, val 0.129000, lr 7.350919e-04\n",
      "starting iteration  60\n",
      "Finished epoch 7 / 10: cost 2.010990, train: 0.220000, val 0.129000, lr 6.983373e-04\n",
      "starting iteration  70\n",
      "Finished epoch 8 / 10: cost 1.952675, train: 0.300000, val 0.146000, lr 6.634204e-04\n",
      "starting iteration  80\n",
      "Finished epoch 9 / 10: cost 1.996290, train: 0.380000, val 0.140000, lr 6.302494e-04\n",
      "starting iteration  90\n",
      "Finished epoch 10 / 10: cost 2.153970, train: 0.420000, val 0.145000, lr 5.987369e-04\n",
      "finished optimization. best validation accuracy: 0.146000\n"
     ]
    }
   ],
   "source": [
    "# Use a two-layer ConvNet to overfit 50 training examples.\n",
    "\n",
    "model = init_unet_classifier(num_filters=[8,16])\n",
    "trainer = ClassifierTrainer()\n",
    "best_model, loss_history, train_acc_history, val_acc_history = trainer.train(\n",
    "          X_train[:50], y_train[:50], X_val, y_val, model, unet_classifier,\n",
    "          reg=0.001, update=\"rmsprop\", momentum=0.9, learning_rate=0.001, batch_size=5, num_epochs=10,\n",
    "          verbose=True)"
   ]
  },
  {
   "cell_type": "markdown",
   "metadata": {},
   "source": [
    "Plotting the loss, training accuracy, and validation accuracy should show clear overfitting:"
   ]
  },
  {
   "cell_type": "code",
   "execution_count": 19,
   "metadata": {},
   "outputs": [
    {
     "data": {
      "image/png": "[encoded data removed]",
      "text/plain": [
       "<Figure size 432x288 with 2 Axes>"
      ]
     },
     "metadata": {
      "needs_background": "light"
     },
     "output_type": "display_data"
    }
   ],
   "source": [
    "plt.subplot(2, 1, 1)\n",
    "plt.plot(loss_history)\n",
    "plt.xlabel('iteration')\n",
    "plt.ylabel('loss')\n",
    "\n",
    "plt.subplot(2, 1, 2)\n",
    "plt.plot(train_acc_history)\n",
    "plt.plot(val_acc_history)\n",
    "plt.legend(['train', 'val'], loc='upper left')\n",
    "plt.xlabel('epoch')\n",
    "plt.ylabel('accuracy')\n",
    "plt.show()"
   ]
  },
  {
   "cell_type": "markdown",
   "metadata": {},
   "source": [
    "# Train the net\n",
    "Once the above works, training the net is the next thing to try. You can set the `acc_frequency` parameter to change the frequency at which the training and validation set accuracies are tested. If your parameters are set properly, you should see the training and validation accuracy start to improve within a hundred iterations, and you should be able to train a reasonable model with just one epoch.\n",
    "\n",
    "Using the parameters below you should be able to get around 50% accuracy on the validation set."
   ]
  },
  {
   "cell_type": "code",
   "execution_count": 12,
   "metadata": {},
   "outputs": [
    {
     "name": "stdout",
     "output_type": "stream",
     "text": [
      "starting iteration  0\n",
      "Finished epoch 0 / 4: cost 0.593840, train: 0.760000, val 0.610000, lr 1.000000e-06\n",
      "starting iteration  50\n",
      "Finished epoch 0 / 4: cost 0.734365, train: 0.777000, val 0.609000, lr 1.000000e-06\n",
      "starting iteration  100\n",
      "Finished epoch 0 / 4: cost 0.566677, train: 0.783000, val 0.607000, lr 1.000000e-06\n",
      "starting iteration  150\n",
      "Finished epoch 0 / 4: cost 0.927831, train: 0.765000, val 0.607000, lr 1.000000e-06\n",
      "starting iteration  200\n",
      "Finished epoch 0 / 4: cost 1.080134, train: 0.791000, val 0.604000, lr 1.000000e-06\n",
      "starting iteration  250\n",
      "Finished epoch 0 / 4: cost 0.885584, train: 0.751000, val 0.604000, lr 1.000000e-06\n",
      "starting iteration  300\n",
      "Finished epoch 0 / 4: cost 0.595857, train: 0.753000, val 0.604000, lr 1.000000e-06\n",
      "starting iteration  350\n",
      "Finished epoch 0 / 4: cost 0.761939, train: 0.763000, val 0.605000, lr 1.000000e-06\n",
      "starting iteration  400\n",
      "Finished epoch 0 / 4: cost 0.793510, train: 0.762000, val 0.606000, lr 1.000000e-06\n",
      "starting iteration  450\n",
      "Finished epoch 0 / 4: cost 0.824454, train: 0.763000, val 0.604000, lr 1.000000e-06\n",
      "starting iteration  500\n",
      "Finished epoch 0 / 4: cost 0.666395, train: 0.763000, val 0.603000, lr 1.000000e-06\n",
      "starting iteration  550\n",
      "Finished epoch 0 / 4: cost 0.553789, train: 0.782000, val 0.602000, lr 1.000000e-06\n",
      "starting iteration  590\n",
      "Finished epoch 1 / 4: cost 0.635949, train: 0.788000, val 0.602000, lr 9.500000e-07\n",
      "starting iteration  600\n",
      "Finished epoch 1 / 4: cost 0.756243, train: 0.752000, val 0.602000, lr 9.500000e-07\n",
      "starting iteration  650\n",
      "Finished epoch 1 / 4: cost 0.836040, train: 0.779000, val 0.603000, lr 9.500000e-07\n",
      "starting iteration  700\n",
      "Finished epoch 1 / 4: cost 0.553233, train: 0.758000, val 0.603000, lr 9.500000e-07\n",
      "starting iteration  750\n",
      "Finished epoch 1 / 4: cost 0.637424, train: 0.777000, val 0.603000, lr 9.500000e-07\n",
      "starting iteration  800\n",
      "Finished epoch 1 / 4: cost 0.445756, train: 0.809000, val 0.603000, lr 9.500000e-07\n",
      "starting iteration  850\n",
      "Finished epoch 1 / 4: cost 0.652430, train: 0.770000, val 0.600000, lr 9.500000e-07\n",
      "starting iteration  900\n",
      "Finished epoch 1 / 4: cost 0.651540, train: 0.768000, val 0.601000, lr 9.500000e-07\n",
      "starting iteration  950\n",
      "Finished epoch 1 / 4: cost 0.770231, train: 0.787000, val 0.600000, lr 9.500000e-07\n",
      "starting iteration  1000\n",
      "Finished epoch 1 / 4: cost 0.545542, train: 0.765000, val 0.600000, lr 9.500000e-07\n",
      "starting iteration  1050\n",
      "Finished epoch 1 / 4: cost 0.791868, train: 0.761000, val 0.601000, lr 9.500000e-07\n",
      "starting iteration  1100\n",
      "Finished epoch 1 / 4: cost 0.507990, train: 0.792000, val 0.601000, lr 9.500000e-07\n",
      "starting iteration  1150\n",
      "Finished epoch 1 / 4: cost 0.829787, train: 0.769000, val 0.604000, lr 9.500000e-07\n",
      "starting iteration  1180\n",
      "Finished epoch 2 / 4: cost 0.775445, train: 0.797000, val 0.602000, lr 9.025000e-07\n",
      "starting iteration  1200\n",
      "Finished epoch 2 / 4: cost 1.005830, train: 0.770000, val 0.603000, lr 9.025000e-07\n",
      "starting iteration  1250\n",
      "Finished epoch 2 / 4: cost 0.732112, train: 0.768000, val 0.602000, lr 9.025000e-07\n",
      "starting iteration  1300\n",
      "Finished epoch 2 / 4: cost 0.646625, train: 0.766000, val 0.604000, lr 9.025000e-07\n",
      "starting iteration  1350\n",
      "Finished epoch 2 / 4: cost 0.753648, train: 0.777000, val 0.602000, lr 9.025000e-07\n",
      "starting iteration  1400\n",
      "Finished epoch 2 / 4: cost 0.772245, train: 0.770000, val 0.604000, lr 9.025000e-07\n",
      "starting iteration  1450\n",
      "Finished epoch 2 / 4: cost 0.689280, train: 0.768000, val 0.602000, lr 9.025000e-07\n",
      "starting iteration  1500\n",
      "Finished epoch 2 / 4: cost 0.724887, train: 0.786000, val 0.603000, lr 9.025000e-07\n",
      "starting iteration  1550\n",
      "Finished epoch 2 / 4: cost 0.381234, train: 0.776000, val 0.601000, lr 9.025000e-07\n",
      "starting iteration  1600\n",
      "Finished epoch 2 / 4: cost 0.816675, train: 0.789000, val 0.601000, lr 9.025000e-07\n",
      "starting iteration  1650\n",
      "Finished epoch 2 / 4: cost 0.822736, train: 0.784000, val 0.602000, lr 9.025000e-07\n",
      "starting iteration  1700\n",
      "Finished epoch 2 / 4: cost 0.580727, train: 0.758000, val 0.603000, lr 9.025000e-07\n",
      "starting iteration  1750\n",
      "Finished epoch 2 / 4: cost 0.499054, train: 0.749000, val 0.601000, lr 9.025000e-07\n",
      "starting iteration  1770\n",
      "Finished epoch 3 / 4: cost 0.956949, train: 0.759000, val 0.603000, lr 8.573750e-07\n",
      "starting iteration  1800\n",
      "Finished epoch 3 / 4: cost 0.572045, train: 0.757000, val 0.602000, lr 8.573750e-07\n",
      "starting iteration  1850\n",
      "Finished epoch 3 / 4: cost 0.703805, train: 0.772000, val 0.602000, lr 8.573750e-07\n",
      "starting iteration  1900\n",
      "Finished epoch 3 / 4: cost 0.653590, train: 0.768000, val 0.600000, lr 8.573750e-07\n",
      "starting iteration  1950\n",
      "Finished epoch 3 / 4: cost 0.543242, train: 0.760000, val 0.601000, lr 8.573750e-07\n",
      "starting iteration  2000\n",
      "Finished epoch 3 / 4: cost 0.553973, train: 0.758000, val 0.602000, lr 8.573750e-07\n",
      "starting iteration  2050\n",
      "Finished epoch 3 / 4: cost 0.663021, train: 0.761000, val 0.601000, lr 8.573750e-07\n",
      "starting iteration  2100\n",
      "Finished epoch 3 / 4: cost 0.577768, train: 0.768000, val 0.601000, lr 8.573750e-07\n",
      "starting iteration  2150\n",
      "Finished epoch 3 / 4: cost 1.052705, train: 0.772000, val 0.599000, lr 8.573750e-07\n",
      "starting iteration  2200\n",
      "Finished epoch 3 / 4: cost 0.848295, train: 0.767000, val 0.600000, lr 8.573750e-07\n",
      "starting iteration  2250\n",
      "Finished epoch 3 / 4: cost 0.850571, train: 0.785000, val 0.601000, lr 8.573750e-07\n",
      "starting iteration  2300\n",
      "Finished epoch 3 / 4: cost 0.722172, train: 0.791000, val 0.605000, lr 8.573750e-07\n",
      "starting iteration  2350\n",
      "Finished epoch 3 / 4: cost 0.471767, train: 0.777000, val 0.605000, lr 8.573750e-07\n",
      "starting iteration  2370\n",
      "Finished epoch 4 / 4: cost 0.788891, train: 0.774000, val 0.604000, lr 8.145062e-07\n",
      "finished optimization. best validation accuracy: 0.610000\n"
     ]
    }
   ],
   "source": [
    "#model = init_unet_classifier(num_filters=[16,32,64])\n",
    "trainer = ClassifierTrainer()\n",
    "best_model, loss_history, train_acc_history, val_acc_history = trainer.train(\n",
    "          X_train, y_train, X_val, y_val, best_model, unet_classifier,\n",
    "          reg=0.001, update=\"adam\", learning_rate=0.000001, batch_size=128, num_epochs=4,\n",
    "          acc_frequency=50, verbose=True)"
   ]
  },
  {
   "cell_type": "markdown",
   "metadata": {},
   "source": [
    "# Visualize weights\n",
    "We can visualize the convolutional weights from the first layer. If everything worked properly, these will usually be edges and blobs of various colors and orientations."
   ]
  },
  {
   "cell_type": "code",
   "execution_count": 17,
   "metadata": {},
   "outputs": [
    {
     "name": "stdout",
     "output_type": "stream",
     "text": [
      "(23, 23, 3)\n"
     ]
    },
    {
     "data": {
      "text/plain": [
       "<matplotlib.image.AxesImage at 0x7f3432ee4cf8>"
      ]
     },
     "execution_count": 17,
     "metadata": {},
     "output_type": "execute_result"
    },
    {
     "data": {
      "image/png": "[encoded data removed]",
      "text/plain": [
       "<Figure size 432x288 with 1 Axes>"
      ]
     },
     "metadata": {
      "needs_background": "light"
     },
     "output_type": "display_data"
    }
   ],
   "source": [
    "from cs231n.vis_utils import visualize_grid\n",
    "grid = visualize_grid(best_model['convW0'].transpose(0, 2, 3, 1))\n",
    "print(grid.shape)\n",
    "plt.imshow(grid.astype('uint8'))"
   ]
  },
  {
   "cell_type": "markdown",
   "metadata": {},
   "source": [
    "# Experiment!\n",
    "Experiment and try to get the best performance that you can on CIFAR-10 using a ConvNet. Here are some ideas to get you started:\n",
    "\n",
    "### Things you should try:\n",
    "- Filter size: Above we used 7x7; this makes pretty pictures but smaller filters may be more efficient\n",
    "- Number of filters: Above we used 32 filters. Do more or fewer do better?\n",
    "- Network depth: The network above has two layers of trainable parameters. Can you do better with a deeper network? You can implement alternative architectures in the file `cs231n/classifiers/convnet.py`. Some good architectures to try include:\n",
    "    - [conv-relu-pool]xN - conv - relu - [affine]xM - [softmax or SVM]\n",
    "    - [conv-relu-pool]XN - [affine]XM - [softmax or SVM]\n",
    "    - [conv-relu-conv-relu-pool]xN - [affine]xM - [softmax or SVM]\n",
    "\n",
    "### Tips for training\n",
    "For each network architecture that you try, you should tune the learning rate and regularization strength. When doing this there are a couple important things to keep in mind:\n",
    "\n",
    "- If the parameters are working well, you should see improvement within a few hundred iterations\n",
    "- Remember the course-to-fine approach for hyperparameter tuning: start by testing a large range of hyperparameters for just a few training iterations to find the combinations of parameters that are working at all.\n",
    "- Once you have found some sets of parameters that seem to work, search more finely around these parameters. You may need to train for more epochs.\n",
    "\n",
    "### Going above and beyond\n",
    "If you are feeling adventurous there are many other features you can implement to try and improve your performance. You are **not required** to implement any of these; however they would be good things to try for extra credit.\n",
    "\n",
    "- Alternative update steps: For the assignment we implemented SGD+momentum and RMSprop; you could try alternatives like AdaGrad or AdaDelta.\n",
    "- Other forms of regularization such as L1 or Dropout\n",
    "- Alternative activation functions such as leaky ReLU or maxout\n",
    "- Model ensembles\n",
    "- Data augmentation\n",
    "\n",
    "### What we expect\n",
    "At the very least, you should be able to train a ConvNet that gets at least 65% accuracy on the validation set. This is just a lower bound - if you are careful it should be possible to get accuracies much higher than that! Extra credit points will be awarded for particularly high-scoring models or unique approaches.\n",
    "\n",
    "You should use the space below to experiment and train your network. The final cell in this notebook should contain the training, validation, and test set accuracies for your final trained network. In this notebook you should also write an explanation of what you did, any additional features that you implemented, and any visualizations or graphs that you make in the process of training and evaluating your network.\n",
    "\n",
    "Have fun and happy training!"
   ]
  },
  {
   "cell_type": "raw",
   "metadata": {},
   "source": [
    "I overwrite the above cell in order to train. The best value i have got so far is %61. I tried double convolution with leaky relu as activation but failed due to implementation. I believe i should have built a more block based structure since things get quite messy when i tried to calculate all grads and updates manually. I named the classifier as unet because i also tried u-net architecture but that doesn't work in terms of implementation again. I failed on deconvolution with upsampling side. I believe a u-net model with depth of three could solve cifar quiet better than the current results i have."
   ]
  }
 ],
 "metadata": {
  "kernelspec": {
   "display_name": "Python 3",
   "language": "python",
   "name": "python3"
  },
  "language_info": {
   "codemirror_mode": {
    "name": "ipython",
    "version": 3
   },
   "file_extension": ".py",
   "mimetype": "text/x-python",
   "name": "python",
   "nbconvert_exporter": "python",
   "pygments_lexer": "ipython3",
   "version": "3.6.9"
  }
 },
 "nbformat": 4,
 "nbformat_minor": 1
}
