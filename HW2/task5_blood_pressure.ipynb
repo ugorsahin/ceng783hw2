{
 "cells": [
  {
   "cell_type": "markdown",
   "metadata": {},
   "source": [
    "# Blood Pressure from PPG signal\n",
    "\n",
    "In this notebook, you should solve the problem in Task 4 (blood pressure estimation from PPG signal) in the first assignment (<a href=\"http://kovan.ceng.metu.edu.tr/~sinan/DL/HW1.html\">HW1</a>) using a CNN architecture that you should construct using the layers and the network you developed in this HW.\n",
    "\n",
    "The notebook is intentionally composed of only this cell. You can copy-paste any text, data, cell, or code that you developed in this HW or HW1. You can add as many cells as you want. You can create files on the disk as freely as you like."
   ]
  },
  {
   "cell_type": "code",
   "execution_count": 1,
   "metadata": {},
   "outputs": [],
   "source": [
    "import random\n",
    "import numpy as np\n",
    "from oldhom.utils import load_BP_dataset\n",
    "import matplotlib.pyplot as plt\n",
    "%matplotlib inline\n",
    "plt.rcParams['figure.figsize'] = (10.0, 8.0) # set default size of plots\n",
    "plt.rcParams['image.interpolation'] = 'nearest'\n",
    "plt.rcParams['image.cmap'] = 'gray'\n",
    "\n",
    "# for auto-reloading extenrnal modules\n",
    "# see http://stackoverflow.com/questions/1907993/autoreload-of-modules-in-ipython\n",
    "%load_ext autoreload\n",
    "%autoreload 2\n",
    "\n",
    "def rel_error(x, y):\n",
    "  \"\"\" returns relative error \"\"\"\n",
    "  return np.max(np.abs(x - y) / (np.maximum(1e-8, np.abs(x) + np.abs(y))))"
   ]
  },
  {
   "cell_type": "code",
   "execution_count": 2,
   "metadata": {},
   "outputs": [
    {
     "name": "stdout",
     "output_type": "stream",
     "text": [
      "Loading : |##########|\n",
      "Number of instances in the training set:  2100\n",
      "Number of instances in the validation set:  300\n",
      "Number of instances in the testing set:  600\n"
     ]
    }
   ],
   "source": [
    "def get_data(datafile, training_ratio=0.9, test_ratio=0.06, val_ratio=0.01):\n",
    "  # Load the PPG training data \n",
    "  X, y = load_BP_dataset(datafile)\n",
    "  # this is not what supposed to happen\n",
    "  length = X.shape[0]\n",
    "  concated = np.concatenate((X,y),axis=1)\n",
    "  np.random.shuffle(concated)\n",
    "  # Splitting into 0.7,0.1,0.2\n",
    "  train_rat,val_rat = int(0.7*length),int(0.8*length)\n",
    "   \n",
    "  X_train = concated[:train_rat,:1000]\n",
    "  y_train = concated[:train_rat,1000:]\n",
    "  X_val   = concated[train_rat:val_rat,:1000]\n",
    "  y_val   = concated[train_rat:val_rat,1000:]\n",
    "  X_test  = concated[val_rat:,:1000]\n",
    "  y_test  = concated[val_rat:,1000:]\n",
    "  ################################################################\n",
    "  # TODO: Split the data into training, validation and test sets #\n",
    "  ################################################################\n",
    "  pass\n",
    "  #########    END OF YOUR CODE    ###############################\n",
    "  ################################################################\n",
    "  \n",
    "  return X_train, y_train, X_val, y_val, X_test, y_test\n",
    "\n",
    "datafile = 'cs231n/datasets/Part_1.mat' #TODO: PATH to your data file\n",
    "input_size = 1000 # TODO: Size of the input of the network\n",
    "\n",
    "X_train, y_train, X_val, y_val, X_test, y_test = get_data(datafile)\n",
    "print (\"Number of instances in the training set: \", len(X_train))\n",
    "print (\"Number of instances in the validation set: \", len(X_val))\n",
    "print (\"Number of instances in the testing set: \", len(X_test))"
   ]
  },
  {
   "cell_type": "code",
   "execution_count": 3,
   "metadata": {
    "scrolled": false
   },
   "outputs": [
    {
     "name": "stdout",
     "output_type": "stream",
     "text": [
      "BRO\n",
      "iteration 0 / 500: loss 10097.992369\n",
      "Val error : 20195.532 , Train error : 20136.446 \n",
      "iteration 20 / 500: loss 2416.470362\n",
      "Val error : 1370.384 , Train error : 1535.598 \n",
      "iteration 40 / 500: loss 572.088071\n",
      "iteration 60 / 500: loss 362.501990\n",
      "Val error : 709.744 , Train error : 731.317 \n",
      "iteration 80 / 500: loss 373.220739\n",
      "Val error : 899.954 , Train error : 717.845 \n",
      "iteration 100 / 500: loss 399.181050\n",
      "iteration 120 / 500: loss 315.602604\n",
      "Val error : 771.493 , Train error : 719.519 \n",
      "iteration 140 / 500: loss 441.226563\n",
      "iteration 160 / 500: loss 349.827285\n",
      "Val error : 634.827 , Train error : 743.290 \n",
      "iteration 180 / 500: loss 398.806742\n",
      "Val error : 656.587 , Train error : 729.254 \n",
      "iteration 200 / 500: loss 414.910346\n",
      "iteration 220 / 500: loss 477.380657\n",
      "Val error : 698.955 , Train error : 752.479 \n",
      "iteration 240 / 500: loss 464.973643\n",
      "Val error : 760.367 , Train error : 724.536 \n",
      "iteration 260 / 500: loss 378.617967\n",
      "iteration 280 / 500: loss 566.333851\n",
      "Val error : 998.614 , Train error : 723.081 \n",
      "iteration 300 / 500: loss 398.567994\n",
      "iteration 320 / 500: loss 605.609495\n",
      "Val error : 1020.837 , Train error : 730.579 \n",
      "iteration 340 / 500: loss 419.743163\n",
      "Val error : 631.607 , Train error : 727.434 \n",
      "iteration 360 / 500: loss 489.680425\n",
      "iteration 380 / 500: loss 508.157770\n",
      "Val error : 544.619 , Train error : 723.302 \n",
      "iteration 400 / 500: loss 425.783067\n",
      "Val error : 504.190 , Train error : 729.186 \n",
      "iteration 420 / 500: loss 493.098121\n",
      "iteration 440 / 500: loss 486.386956\n",
      "Val error : 603.781 , Train error : 728.802 \n",
      "iteration 460 / 500: loss 471.704507\n",
      "iteration 480 / 500: loss 628.569238\n",
      "Val error : 985.190 , Train error : 750.059 \n",
      "Validation error:  726.1722843822466\n"
     ]
    }
   ],
   "source": [
    "# Now, let's train a neural network\n",
    "from cs231n.bp_model import BPNET\n",
    "hidden_size = 512 # TODO: Choose a suitable hidden layer size\n",
    "num_classes = 2 # We have two outputs\n",
    "net = BPNET(input_shape=(1,1,1000), num_classes=2, num_filters=[8,8,16,16,32], num_hidden=[256], filter_size=7, pool_cita=4)\n",
    "\n",
    "# Train the network\n",
    "stats = net.train(X_train, y_train, X_val, y_val, num_iters=500, batch_size=64, \n",
    "                  learning_rate=0.001, learning_rate_decay=0.9, reg=0.001, verbose=True)\n",
    "\n",
    "# Predict on the validation set\n",
    "#val_err = ... # TODO: Perform prediction on the validation set\n",
    "val_err = np.sum(np.square(net.predict(X_val) - y_val), axis=1).mean()\n",
    "print ('Validation error: ', val_err)"
   ]
  },
  {
   "cell_type": "code",
   "execution_count": 8,
   "metadata": {},
   "outputs": [
    {
     "data": {
      "image/png": "[encoded data removed]",
      "text/plain": [
       "<Figure size 432x288 with 2 Axes>"
      ]
     },
     "metadata": {
      "needs_background": "light"
     },
     "output_type": "display_data"
    }
   ],
   "source": [
    "plt.subplot(2, 1, 1)\n",
    "plt.plot(stats[\"loss_history\"])\n",
    "plt.xlabel('iteration')\n",
    "plt.ylabel('loss')\n",
    "\n",
    "plt.subplot(2, 1, 2)\n",
    "plt.plot(new_train)\n",
    "plt.plot(new_val)\n",
    "plt.legend(['train', 'val'], loc='upper left')\n",
    "plt.xlabel('epoch')\n",
    "plt.ylabel('accuracy')\n",
    "plt.show()"
   ]
  },
  {
   "cell_type": "raw",
   "metadata": {},
   "source": [
    "new_train =  stats[\"train_err_history\"][1:]\n",
    "new_val   =  stats[\"val_err_history\"][1:]\n"
   ]
  },
  {
   "cell_type": "raw",
   "metadata": {},
   "source": [
    "I used new_train and new val since the first errors was too big at first that the rest is not looking meaningful."
   ]
  }
 ],
 "metadata": {
  "kernelspec": {
   "display_name": "Python 3",
   "language": "python",
   "name": "python3"
  },
  "language_info": {
   "codemirror_mode": {
    "name": "ipython",
    "version": 3
   },
   "file_extension": ".py",
   "mimetype": "text/x-python",
   "name": "python",
   "nbconvert_exporter": "python",
   "pygments_lexer": "ipython3",
   "version": "3.6.9"
  }
 },
 "nbformat": 4,
 "nbformat_minor": 1
}
